{
 "cells": [
  {
   "cell_type": "markdown",
   "metadata": {},
   "source": [
    "используем модель, второй раз парсим, получаем товары с сайта"
   ]
  },
  {
   "cell_type": "code",
   "execution_count": 11,
   "metadata": {},
   "outputs": [],
   "source": [
    "from bs4 import BeautifulSoup\n",
    "import matplotlib.pyplot as plt\n",
    "import requests\n",
    "from selenium import webdriver\n",
    "import time\n",
    "import numpy as np\n",
    "import pandas as pd\n",
    "from sklearn.metrics import mean_squared_error, mean_absolute_error\n",
    "from sklearn.tree import DecisionTreeClassifier, DecisionTreeRegressor\n",
    "from sklearn.model_selection import train_test_split\n",
    "from sklearn.multioutput import MultiOutputClassifier, MultiOutputRegressor\n",
    "import pickle"
   ]
  },
  {
   "cell_type": "code",
   "execution_count": 18,
   "metadata": {},
   "outputs": [],
   "source": [
    "opros = pd.read_csv(\"final_opros.csv\") \n",
    "opros = opros.drop(columns = \"Unnamed: 0\")\n",
    "cols = list(opros.columns)\n",
    "X = np.array(opros[cols[:5] + cols[-12:]])\n",
    "Y = np.array(opros[cols[6:-12]])"
   ]
  },
  {
   "cell_type": "code",
   "execution_count": 20,
   "metadata": {},
   "outputs": [
    {
     "data": {
      "text/plain": [
       "array([[7.42857143, 6.        , 7.84615385, 9.125     , 9.11111111,\n",
       "        5.11111111, 9.68421053, 3.375     , 5.68421053, 3.54285714,\n",
       "        9.33333333, 6.94117647, 8.15384615, 1.14285714, 0.5625    ,\n",
       "        4.42105263, 0.46153846, 1.        , 1.5       , 3.52941176,\n",
       "        3.42857143, 6.10526316, 6.36363636, 5.73333333, 7.46666667,\n",
       "        3.5       , 7.38095238, 7.09677419, 6.41176471, 6.56521739,\n",
       "        5.47058824, 5.23076923, 3.21428571, 0.54545455, 2.09090909,\n",
       "        7.36842105, 8.08695652, 2.88888889, 5.72727273, 4.64      ,\n",
       "        5.63636364, 8.42105263, 7.83333333, 6.44897959, 8.23529412,\n",
       "        4.05405405, 4.75862069]])"
      ]
     },
     "execution_count": 20,
     "metadata": {},
     "output_type": "execute_result"
    }
   ],
   "source": [
    "regr = pickle.load(open(\"finalized_model.sav\", 'rb'))\n",
    "regr.predict([X[0]]) #проверка"
   ]
  },
  {
   "cell_type": "code",
   "execution_count": 26,
   "metadata": {},
   "outputs": [],
   "source": [
    "chosen_categories = np.array(['Смартфоны и умные часы',\n",
    " 'Портативная техника',\n",
    " 'Аудио- и видеотехника',\n",
    " 'Всё для геймеров',\n",
    " 'Фото- и видеокамеры',\n",
    " 'Робототехника и Stem-игрушки',\n",
    " 'Игры и приставки',\n",
    " 'GPS-навигация',\n",
    " 'Техника для дома',\n",
    " 'Техника для красоты',\n",
    " 'Ноутбуки и настольные ПК',\n",
    " 'Аксессуары',\n",
    " 'Игрушки и игры',\n",
    " 'Коляски и автокресла',\n",
    " 'Масла и технические жидкости',\n",
    " 'Аксессуары и оборудование',\n",
    " 'Автомобильные инструменты',\n",
    " 'Противоугонные устройства',\n",
    " 'Мототехника',\n",
    " 'Мебель',\n",
    " 'Велоспорт',\n",
    " 'Самокаты',\n",
    " 'Моноколеса и гироскутеры',\n",
    " 'Скейтбординг',\n",
    " 'Роликовые коньки',\n",
    " 'Спортивная защита',\n",
    " 'Туризм и отдых на природе',\n",
    " 'Тренажеры и фитнес',\n",
    " 'Уход за волосами',\n",
    " 'Уход за лицом',\n",
    " 'Уход за телом',\n",
    " 'Парфюмерия',\n",
    " 'Оптика',\n",
    " 'Ортопедические изделия',\n",
    " 'Массажеры',\n",
    " 'Чай, кофе, какао',\n",
    " 'Кондитерские изделия',\n",
    " 'Здоровое питание',\n",
    " 'Все для выпечки',\n",
    " 'Алкоголь',\n",
    " 'Сумки и чемоданы ',\n",
    " 'Музыкальные инструменты',\n",
    " 'Книги',\n",
    " 'Игры для компаний',\n",
    " 'Билеты',\n",
    " 'Гадания и предсказания',\n",
    " 'Квадрокоптеры'])"
   ]
  },
  {
   "cell_type": "code",
   "execution_count": 28,
   "metadata": {},
   "outputs": [],
   "source": [
    "# пусть это прибыло\n",
    "person = X[55]\n",
    "min_price = 200\n",
    "max_price = 2000"
   ]
  },
  {
   "cell_type": "code",
   "execution_count": 22,
   "metadata": {},
   "outputs": [],
   "source": [
    "def predict_for_person(person):\n",
    "    if (type(person) != type(np.zeros(1)) or len(person)!= 17):\n",
    "        print(\"ошибка, человек описан неверно\")\n",
    "    else:\n",
    "        return regr.predict([person])[0]"
   ]
  },
  {
   "cell_type": "code",
   "execution_count": 30,
   "metadata": {},
   "outputs": [],
   "source": [
    "def make_some_gift(person, min_price, max_price):\n",
    "    cats = predict_for_person(person)\n",
    "    cats = np.argsort(cats)[::-1]\n",
    "    print(chosen_categories[cats])\n",
    "    '''\n",
    "    Вот в этом месте мы идём на сайт, вбиваем в поиск название категории, парсим результаты и смотрим, есть ли в первых 10-ти \n",
    "    результатах то, что укладывается по цене. Если есть - выводим и идем к следующей категории. Так выкладываем\n",
    "    три товара. При нажатии кнопки \"ещё\" идем дальше по категориям. Если доходим до конца пишем \"это всё\"\n",
    "    '''"
   ]
  },
  {
   "cell_type": "code",
   "execution_count": null,
   "metadata": {},
   "outputs": [],
   "source": []
  }
 ],
 "metadata": {
  "kernelspec": {
   "display_name": "Python 3",
   "language": "python",
   "name": "python3"
  },
  "language_info": {
   "codemirror_mode": {
    "name": "ipython",
    "version": 3
   },
   "file_extension": ".py",
   "mimetype": "text/x-python",
   "name": "python",
   "nbconvert_exporter": "python",
   "pygments_lexer": "ipython3",
   "version": "3.7.4"
  }
 },
 "nbformat": 4,
 "nbformat_minor": 4
}
