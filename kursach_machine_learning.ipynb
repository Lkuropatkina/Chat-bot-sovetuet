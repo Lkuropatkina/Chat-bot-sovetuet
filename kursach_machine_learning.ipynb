{
 "cells": [
  {
   "cell_type": "code",
   "execution_count": 15,
   "metadata": {},
   "outputs": [],
   "source": [
    "import matplotlib.pyplot as plt\n",
    "import numpy as np\n",
    "import pandas as pd\n",
    "from sklearn.metrics import mean_squared_error, mean_absolute_error\n",
    "from sklearn.tree import DecisionTreeClassifier, DecisionTreeRegressor\n",
    "from sklearn.model_selection import train_test_split\n",
    "from sklearn.multioutput import MultiOutputClassifier, MultiOutputRegressor"
   ]
  },
  {
   "cell_type": "code",
   "execution_count": 4,
   "metadata": {},
   "outputs": [
    {
     "data": {
      "text/html": [
       "<div>\n",
       "<style scoped>\n",
       "    .dataframe tbody tr th:only-of-type {\n",
       "        vertical-align: middle;\n",
       "    }\n",
       "\n",
       "    .dataframe tbody tr th {\n",
       "        vertical-align: top;\n",
       "    }\n",
       "\n",
       "    .dataframe thead th {\n",
       "        text-align: right;\n",
       "    }\n",
       "</style>\n",
       "<table border=\"1\" class=\"dataframe\">\n",
       "  <thead>\n",
       "    <tr style=\"text-align: right;\">\n",
       "      <th></th>\n",
       "      <th>Female</th>\n",
       "      <th>Male</th>\n",
       "      <th>Возраст</th>\n",
       "      <th>Single</th>\n",
       "      <th>In_relations</th>\n",
       "      <th>Married</th>\n",
       "      <th>[Смартфоны и умные часы]</th>\n",
       "      <th>[Портативная техника]</th>\n",
       "      <th>[Аудио- и видеотехника]</th>\n",
       "      <th>[Всё для геймеров]</th>\n",
       "      <th>...</th>\n",
       "      <th>рисование</th>\n",
       "      <th>кино</th>\n",
       "      <th>компьютерные игры</th>\n",
       "      <th>прогулки</th>\n",
       "      <th>рукоделие</th>\n",
       "      <th>садоводство</th>\n",
       "      <th>соцсети</th>\n",
       "      <th>спорт</th>\n",
       "      <th>чтение нон-фикшн/профессиональной литературы</th>\n",
       "      <th>чтение художественной литературы</th>\n",
       "    </tr>\n",
       "  </thead>\n",
       "  <tbody>\n",
       "    <tr>\n",
       "      <th>0</th>\n",
       "      <td>1</td>\n",
       "      <td>0</td>\n",
       "      <td>19</td>\n",
       "      <td>1</td>\n",
       "      <td>0</td>\n",
       "      <td>0</td>\n",
       "      <td>6</td>\n",
       "      <td>8</td>\n",
       "      <td>8</td>\n",
       "      <td>10</td>\n",
       "      <td>...</td>\n",
       "      <td>0</td>\n",
       "      <td>0</td>\n",
       "      <td>1</td>\n",
       "      <td>0</td>\n",
       "      <td>1</td>\n",
       "      <td>0</td>\n",
       "      <td>1</td>\n",
       "      <td>0</td>\n",
       "      <td>1</td>\n",
       "      <td>1</td>\n",
       "    </tr>\n",
       "    <tr>\n",
       "      <th>1</th>\n",
       "      <td>1</td>\n",
       "      <td>0</td>\n",
       "      <td>15</td>\n",
       "      <td>1</td>\n",
       "      <td>0</td>\n",
       "      <td>0</td>\n",
       "      <td>10</td>\n",
       "      <td>10</td>\n",
       "      <td>10</td>\n",
       "      <td>8</td>\n",
       "      <td>...</td>\n",
       "      <td>1</td>\n",
       "      <td>0</td>\n",
       "      <td>1</td>\n",
       "      <td>1</td>\n",
       "      <td>0</td>\n",
       "      <td>0</td>\n",
       "      <td>1</td>\n",
       "      <td>0</td>\n",
       "      <td>1</td>\n",
       "      <td>1</td>\n",
       "    </tr>\n",
       "    <tr>\n",
       "      <th>2</th>\n",
       "      <td>1</td>\n",
       "      <td>0</td>\n",
       "      <td>14</td>\n",
       "      <td>1</td>\n",
       "      <td>0</td>\n",
       "      <td>0</td>\n",
       "      <td>10</td>\n",
       "      <td>8</td>\n",
       "      <td>8</td>\n",
       "      <td>10</td>\n",
       "      <td>...</td>\n",
       "      <td>1</td>\n",
       "      <td>0</td>\n",
       "      <td>1</td>\n",
       "      <td>0</td>\n",
       "      <td>0</td>\n",
       "      <td>0</td>\n",
       "      <td>1</td>\n",
       "      <td>0</td>\n",
       "      <td>0</td>\n",
       "      <td>0</td>\n",
       "    </tr>\n",
       "    <tr>\n",
       "      <th>3</th>\n",
       "      <td>1</td>\n",
       "      <td>0</td>\n",
       "      <td>16</td>\n",
       "      <td>1</td>\n",
       "      <td>0</td>\n",
       "      <td>0</td>\n",
       "      <td>8</td>\n",
       "      <td>6</td>\n",
       "      <td>6</td>\n",
       "      <td>0</td>\n",
       "      <td>...</td>\n",
       "      <td>1</td>\n",
       "      <td>0</td>\n",
       "      <td>0</td>\n",
       "      <td>0</td>\n",
       "      <td>0</td>\n",
       "      <td>0</td>\n",
       "      <td>1</td>\n",
       "      <td>0</td>\n",
       "      <td>0</td>\n",
       "      <td>1</td>\n",
       "    </tr>\n",
       "    <tr>\n",
       "      <th>4</th>\n",
       "      <td>1</td>\n",
       "      <td>0</td>\n",
       "      <td>17</td>\n",
       "      <td>1</td>\n",
       "      <td>0</td>\n",
       "      <td>0</td>\n",
       "      <td>0</td>\n",
       "      <td>6</td>\n",
       "      <td>10</td>\n",
       "      <td>10</td>\n",
       "      <td>...</td>\n",
       "      <td>1</td>\n",
       "      <td>0</td>\n",
       "      <td>1</td>\n",
       "      <td>0</td>\n",
       "      <td>0</td>\n",
       "      <td>0</td>\n",
       "      <td>1</td>\n",
       "      <td>0</td>\n",
       "      <td>0</td>\n",
       "      <td>0</td>\n",
       "    </tr>\n",
       "  </tbody>\n",
       "</table>\n",
       "<p>5 rows × 65 columns</p>\n",
       "</div>"
      ],
      "text/plain": [
       "   Female  Male  Возраст  Single  In_relations  Married  \\\n",
       "0       1     0       19       1             0        0   \n",
       "1       1     0       15       1             0        0   \n",
       "2       1     0       14       1             0        0   \n",
       "3       1     0       16       1             0        0   \n",
       "4       1     0       17       1             0        0   \n",
       "\n",
       "    [Смартфоны и умные часы]   [Портативная техника]  \\\n",
       "0                          6                       8   \n",
       "1                         10                      10   \n",
       "2                         10                       8   \n",
       "3                          8                       6   \n",
       "4                          0                       6   \n",
       "\n",
       "    [Аудио- и видеотехника]   [Всё для геймеров]  ...  рисование  кино  \\\n",
       "0                         8                   10  ...          0     0   \n",
       "1                        10                    8  ...          1     0   \n",
       "2                         8                   10  ...          1     0   \n",
       "3                         6                    0  ...          1     0   \n",
       "4                        10                   10  ...          1     0   \n",
       "\n",
       "   компьютерные игры  прогулки  рукоделие  садоводство  соцсети  спорт  \\\n",
       "0                  1         0          1            0        1      0   \n",
       "1                  1         1          0            0        1      0   \n",
       "2                  1         0          0            0        1      0   \n",
       "3                  0         0          0            0        1      0   \n",
       "4                  1         0          0            0        1      0   \n",
       "\n",
       "   чтение нон-фикшн/профессиональной литературы  \\\n",
       "0                                             1   \n",
       "1                                             1   \n",
       "2                                             0   \n",
       "3                                             0   \n",
       "4                                             0   \n",
       "\n",
       "   чтение художественной литературы  \n",
       "0                                 1  \n",
       "1                                 1  \n",
       "2                                 0  \n",
       "3                                 1  \n",
       "4                                 0  \n",
       "\n",
       "[5 rows x 65 columns]"
      ]
     },
     "execution_count": 4,
     "metadata": {},
     "output_type": "execute_result"
    }
   ],
   "source": [
    "opros = pd.read_csv(\"final_opros.csv\") \n",
    "opros = opros.drop(columns = \"Unnamed: 0\")\n",
    "opros.head()\n"
   ]
  },
  {
   "cell_type": "markdown",
   "metadata": {},
   "source": [
    "Выберем наконец X и Y"
   ]
  },
  {
   "cell_type": "code",
   "execution_count": 14,
   "metadata": {},
   "outputs": [
    {
     "data": {
      "text/html": [
       "<div>\n",
       "<style scoped>\n",
       "    .dataframe tbody tr th:only-of-type {\n",
       "        vertical-align: middle;\n",
       "    }\n",
       "\n",
       "    .dataframe tbody tr th {\n",
       "        vertical-align: top;\n",
       "    }\n",
       "\n",
       "    .dataframe thead th {\n",
       "        text-align: right;\n",
       "    }\n",
       "</style>\n",
       "<table border=\"1\" class=\"dataframe\">\n",
       "  <thead>\n",
       "    <tr style=\"text-align: right;\">\n",
       "      <th></th>\n",
       "      <th>Female</th>\n",
       "      <th>Male</th>\n",
       "      <th>Возраст</th>\n",
       "      <th>Single</th>\n",
       "      <th>In_relations</th>\n",
       "      <th>автомобили</th>\n",
       "      <th>бьюти-практики</th>\n",
       "      <th>рисование</th>\n",
       "      <th>кино</th>\n",
       "      <th>компьютерные игры</th>\n",
       "      <th>прогулки</th>\n",
       "      <th>рукоделие</th>\n",
       "      <th>садоводство</th>\n",
       "      <th>соцсети</th>\n",
       "      <th>спорт</th>\n",
       "      <th>чтение нон-фикшн/профессиональной литературы</th>\n",
       "      <th>чтение художественной литературы</th>\n",
       "    </tr>\n",
       "  </thead>\n",
       "  <tbody>\n",
       "    <tr>\n",
       "      <th>0</th>\n",
       "      <td>1</td>\n",
       "      <td>0</td>\n",
       "      <td>19</td>\n",
       "      <td>1</td>\n",
       "      <td>0</td>\n",
       "      <td>0</td>\n",
       "      <td>0</td>\n",
       "      <td>0</td>\n",
       "      <td>0</td>\n",
       "      <td>1</td>\n",
       "      <td>0</td>\n",
       "      <td>1</td>\n",
       "      <td>0</td>\n",
       "      <td>1</td>\n",
       "      <td>0</td>\n",
       "      <td>1</td>\n",
       "      <td>1</td>\n",
       "    </tr>\n",
       "    <tr>\n",
       "      <th>1</th>\n",
       "      <td>1</td>\n",
       "      <td>0</td>\n",
       "      <td>15</td>\n",
       "      <td>1</td>\n",
       "      <td>0</td>\n",
       "      <td>0</td>\n",
       "      <td>0</td>\n",
       "      <td>1</td>\n",
       "      <td>0</td>\n",
       "      <td>1</td>\n",
       "      <td>1</td>\n",
       "      <td>0</td>\n",
       "      <td>0</td>\n",
       "      <td>1</td>\n",
       "      <td>0</td>\n",
       "      <td>1</td>\n",
       "      <td>1</td>\n",
       "    </tr>\n",
       "    <tr>\n",
       "      <th>2</th>\n",
       "      <td>1</td>\n",
       "      <td>0</td>\n",
       "      <td>14</td>\n",
       "      <td>1</td>\n",
       "      <td>0</td>\n",
       "      <td>0</td>\n",
       "      <td>0</td>\n",
       "      <td>1</td>\n",
       "      <td>0</td>\n",
       "      <td>1</td>\n",
       "      <td>0</td>\n",
       "      <td>0</td>\n",
       "      <td>0</td>\n",
       "      <td>1</td>\n",
       "      <td>0</td>\n",
       "      <td>0</td>\n",
       "      <td>0</td>\n",
       "    </tr>\n",
       "    <tr>\n",
       "      <th>3</th>\n",
       "      <td>1</td>\n",
       "      <td>0</td>\n",
       "      <td>16</td>\n",
       "      <td>1</td>\n",
       "      <td>0</td>\n",
       "      <td>0</td>\n",
       "      <td>0</td>\n",
       "      <td>1</td>\n",
       "      <td>0</td>\n",
       "      <td>0</td>\n",
       "      <td>0</td>\n",
       "      <td>0</td>\n",
       "      <td>0</td>\n",
       "      <td>1</td>\n",
       "      <td>0</td>\n",
       "      <td>0</td>\n",
       "      <td>1</td>\n",
       "    </tr>\n",
       "    <tr>\n",
       "      <th>4</th>\n",
       "      <td>1</td>\n",
       "      <td>0</td>\n",
       "      <td>17</td>\n",
       "      <td>1</td>\n",
       "      <td>0</td>\n",
       "      <td>0</td>\n",
       "      <td>0</td>\n",
       "      <td>1</td>\n",
       "      <td>0</td>\n",
       "      <td>1</td>\n",
       "      <td>0</td>\n",
       "      <td>0</td>\n",
       "      <td>0</td>\n",
       "      <td>1</td>\n",
       "      <td>0</td>\n",
       "      <td>0</td>\n",
       "      <td>0</td>\n",
       "    </tr>\n",
       "  </tbody>\n",
       "</table>\n",
       "</div>"
      ],
      "text/plain": [
       "   Female  Male  Возраст  Single  In_relations  автомобили  бьюти-практики  \\\n",
       "0       1     0       19       1             0           0               0   \n",
       "1       1     0       15       1             0           0               0   \n",
       "2       1     0       14       1             0           0               0   \n",
       "3       1     0       16       1             0           0               0   \n",
       "4       1     0       17       1             0           0               0   \n",
       "\n",
       "   рисование  кино  компьютерные игры  прогулки  рукоделие  садоводство  \\\n",
       "0          0     0                  1         0          1            0   \n",
       "1          1     0                  1         1          0            0   \n",
       "2          1     0                  1         0          0            0   \n",
       "3          1     0                  0         0          0            0   \n",
       "4          1     0                  1         0          0            0   \n",
       "\n",
       "   соцсети  спорт  чтение нон-фикшн/профессиональной литературы  \\\n",
       "0        1      0                                             1   \n",
       "1        1      0                                             1   \n",
       "2        1      0                                             0   \n",
       "3        1      0                                             0   \n",
       "4        1      0                                             0   \n",
       "\n",
       "   чтение художественной литературы  \n",
       "0                                 1  \n",
       "1                                 1  \n",
       "2                                 0  \n",
       "3                                 1  \n",
       "4                                 0  "
      ]
     },
     "execution_count": 14,
     "metadata": {},
     "output_type": "execute_result"
    }
   ],
   "source": [
    "cols = list(opros.columns)\n",
    "X = opros[cols[:5] + cols[-12:]]\n",
    "X.head()"
   ]
  },
  {
   "cell_type": "code",
   "execution_count": 13,
   "metadata": {
    "scrolled": true
   },
   "outputs": [
    {
     "data": {
      "text/html": [
       "<div>\n",
       "<style scoped>\n",
       "    .dataframe tbody tr th:only-of-type {\n",
       "        vertical-align: middle;\n",
       "    }\n",
       "\n",
       "    .dataframe tbody tr th {\n",
       "        vertical-align: top;\n",
       "    }\n",
       "\n",
       "    .dataframe thead th {\n",
       "        text-align: right;\n",
       "    }\n",
       "</style>\n",
       "<table border=\"1\" class=\"dataframe\">\n",
       "  <thead>\n",
       "    <tr style=\"text-align: right;\">\n",
       "      <th></th>\n",
       "      <th>[Смартфоны и умные часы]</th>\n",
       "      <th>[Портативная техника]</th>\n",
       "      <th>[Аудио- и видеотехника]</th>\n",
       "      <th>[Всё для геймеров]</th>\n",
       "      <th>[Фото- и видеокамеры]</th>\n",
       "      <th>[Робототехника и Stem-игрушки]</th>\n",
       "      <th>[Игры и приставки]</th>\n",
       "      <th>[GPS-навигация]</th>\n",
       "      <th>[Техника для дома]</th>\n",
       "      <th>[Техника для красоты]</th>\n",
       "      <th>...</th>\n",
       "      <th>[Здоровое питание]</th>\n",
       "      <th>[Все для выпечки]</th>\n",
       "      <th>[Алкоголь]</th>\n",
       "      <th>[Сумки и чемоданы]</th>\n",
       "      <th>[Музыкальные инструменты]</th>\n",
       "      <th>[Книги]</th>\n",
       "      <th>[Игры для компаний]</th>\n",
       "      <th>[Билеты]</th>\n",
       "      <th>[Гадания и предсказания]</th>\n",
       "      <th>[Квадрокоптеры]</th>\n",
       "    </tr>\n",
       "  </thead>\n",
       "  <tbody>\n",
       "    <tr>\n",
       "      <th>0</th>\n",
       "      <td>6</td>\n",
       "      <td>8</td>\n",
       "      <td>8</td>\n",
       "      <td>10</td>\n",
       "      <td>10</td>\n",
       "      <td>6</td>\n",
       "      <td>10</td>\n",
       "      <td>0</td>\n",
       "      <td>6</td>\n",
       "      <td>6</td>\n",
       "      <td>...</td>\n",
       "      <td>0</td>\n",
       "      <td>8</td>\n",
       "      <td>10</td>\n",
       "      <td>6</td>\n",
       "      <td>10</td>\n",
       "      <td>10</td>\n",
       "      <td>10</td>\n",
       "      <td>10</td>\n",
       "      <td>10</td>\n",
       "      <td>0</td>\n",
       "    </tr>\n",
       "    <tr>\n",
       "      <th>1</th>\n",
       "      <td>10</td>\n",
       "      <td>10</td>\n",
       "      <td>10</td>\n",
       "      <td>8</td>\n",
       "      <td>10</td>\n",
       "      <td>6</td>\n",
       "      <td>10</td>\n",
       "      <td>0</td>\n",
       "      <td>6</td>\n",
       "      <td>6</td>\n",
       "      <td>...</td>\n",
       "      <td>0</td>\n",
       "      <td>10</td>\n",
       "      <td>0</td>\n",
       "      <td>6</td>\n",
       "      <td>0</td>\n",
       "      <td>10</td>\n",
       "      <td>10</td>\n",
       "      <td>10</td>\n",
       "      <td>0</td>\n",
       "      <td>10</td>\n",
       "    </tr>\n",
       "    <tr>\n",
       "      <th>2</th>\n",
       "      <td>10</td>\n",
       "      <td>8</td>\n",
       "      <td>8</td>\n",
       "      <td>10</td>\n",
       "      <td>8</td>\n",
       "      <td>10</td>\n",
       "      <td>10</td>\n",
       "      <td>6</td>\n",
       "      <td>8</td>\n",
       "      <td>0</td>\n",
       "      <td>...</td>\n",
       "      <td>6</td>\n",
       "      <td>6</td>\n",
       "      <td>0</td>\n",
       "      <td>6</td>\n",
       "      <td>6</td>\n",
       "      <td>6</td>\n",
       "      <td>8</td>\n",
       "      <td>8</td>\n",
       "      <td>6</td>\n",
       "      <td>6</td>\n",
       "    </tr>\n",
       "    <tr>\n",
       "      <th>3</th>\n",
       "      <td>8</td>\n",
       "      <td>6</td>\n",
       "      <td>6</td>\n",
       "      <td>0</td>\n",
       "      <td>6</td>\n",
       "      <td>0</td>\n",
       "      <td>0</td>\n",
       "      <td>0</td>\n",
       "      <td>0</td>\n",
       "      <td>0</td>\n",
       "      <td>...</td>\n",
       "      <td>8</td>\n",
       "      <td>6</td>\n",
       "      <td>6</td>\n",
       "      <td>0</td>\n",
       "      <td>0</td>\n",
       "      <td>10</td>\n",
       "      <td>6</td>\n",
       "      <td>6</td>\n",
       "      <td>0</td>\n",
       "      <td>0</td>\n",
       "    </tr>\n",
       "    <tr>\n",
       "      <th>4</th>\n",
       "      <td>0</td>\n",
       "      <td>6</td>\n",
       "      <td>10</td>\n",
       "      <td>10</td>\n",
       "      <td>6</td>\n",
       "      <td>0</td>\n",
       "      <td>8</td>\n",
       "      <td>0</td>\n",
       "      <td>6</td>\n",
       "      <td>0</td>\n",
       "      <td>...</td>\n",
       "      <td>8</td>\n",
       "      <td>6</td>\n",
       "      <td>6</td>\n",
       "      <td>0</td>\n",
       "      <td>0</td>\n",
       "      <td>0</td>\n",
       "      <td>0</td>\n",
       "      <td>6</td>\n",
       "      <td>0</td>\n",
       "      <td>0</td>\n",
       "    </tr>\n",
       "  </tbody>\n",
       "</table>\n",
       "<p>5 rows × 47 columns</p>\n",
       "</div>"
      ],
      "text/plain": [
       "    [Смартфоны и умные часы]   [Портативная техника]  \\\n",
       "0                          6                       8   \n",
       "1                         10                      10   \n",
       "2                         10                       8   \n",
       "3                          8                       6   \n",
       "4                          0                       6   \n",
       "\n",
       "    [Аудио- и видеотехника]   [Всё для геймеров]   [Фото- и видеокамеры]  \\\n",
       "0                         8                   10                      10   \n",
       "1                        10                    8                      10   \n",
       "2                         8                   10                       8   \n",
       "3                         6                    0                       6   \n",
       "4                        10                   10                       6   \n",
       "\n",
       "    [Робототехника и Stem-игрушки]   [Игры и приставки]   [GPS-навигация]  \\\n",
       "0                                6                   10                 0   \n",
       "1                                6                   10                 0   \n",
       "2                               10                   10                 6   \n",
       "3                                0                    0                 0   \n",
       "4                                0                    8                 0   \n",
       "\n",
       "    [Техника для дома]   [Техника для красоты]  ...   [Здоровое питание]  \\\n",
       "0                    6                       6  ...                    0   \n",
       "1                    6                       6  ...                    0   \n",
       "2                    8                       0  ...                    6   \n",
       "3                    0                       0  ...                    8   \n",
       "4                    6                       0  ...                    8   \n",
       "\n",
       "    [Все для выпечки]   [Алкоголь]   [Сумки и чемоданы]  \\\n",
       "0                   8           10                    6   \n",
       "1                  10            0                    6   \n",
       "2                   6            0                    6   \n",
       "3                   6            6                    0   \n",
       "4                   6            6                    0   \n",
       "\n",
       "    [Музыкальные инструменты]   [Книги]   [Игры для компаний]   [Билеты]  \\\n",
       "0                          10        10                    10         10   \n",
       "1                           0        10                    10         10   \n",
       "2                           6         6                     8          8   \n",
       "3                           0        10                     6          6   \n",
       "4                           0         0                     0          6   \n",
       "\n",
       "    [Гадания и предсказания]   [Квадрокоптеры]  \n",
       "0                         10                 0  \n",
       "1                          0                10  \n",
       "2                          6                 6  \n",
       "3                          0                 0  \n",
       "4                          0                 0  \n",
       "\n",
       "[5 rows x 47 columns]"
      ]
     },
     "execution_count": 13,
     "metadata": {},
     "output_type": "execute_result"
    }
   ],
   "source": [
    "Y = opros[cols[6:-12]]\n",
    "Y.head()"
   ]
  },
  {
   "cell_type": "markdown",
   "metadata": {},
   "source": [
    "Сначала покажу всё что я делала с классификацией"
   ]
  },
  {
   "cell_type": "code",
   "execution_count": 16,
   "metadata": {},
   "outputs": [
    {
     "data": {
      "text/plain": [
       "MultiOutputClassifier(estimator=DecisionTreeClassifier(ccp_alpha=0.0,\n",
       "                                                       class_weight=None,\n",
       "                                                       criterion='gini',\n",
       "                                                       max_depth=3,\n",
       "                                                       max_features=None,\n",
       "                                                       max_leaf_nodes=None,\n",
       "                                                       min_impurity_decrease=0.0,\n",
       "                                                       min_impurity_split=None,\n",
       "                                                       min_samples_leaf=1,\n",
       "                                                       min_samples_split=2,\n",
       "                                                       min_weight_fraction_leaf=0.0,\n",
       "                                                       presort='deprecated',\n",
       "                                                       random_state=None,\n",
       "                                                       splitter='best'),\n",
       "                      n_jobs=None)"
      ]
     },
     "execution_count": 16,
     "metadata": {},
     "output_type": "execute_result"
    }
   ],
   "source": [
    "classifier = MultiOutputClassifier(DecisionTreeClassifier(max_depth=3, criterion='gini'))\n",
    "classifier"
   ]
  },
  {
   "cell_type": "markdown",
   "metadata": {},
   "source": [
    "Сейчас будет много самописный метрик качества, потому что мультилэйбл мультикласс мультиаутпут и всё одновременно sklearn не даёт"
   ]
  },
  {
   "cell_type": "code",
   "execution_count": 17,
   "metadata": {},
   "outputs": [],
   "source": [
    "def my_accuracy(Y_pred, Y):\n",
    "    a = 0\n",
    "    b = 0\n",
    "    for i in range(Y.shape[0]):\n",
    "        for j in range(Y.shape[1]):\n",
    "            if Y[i][j] == Y_pred[i][j]:\n",
    "                a+=1\n",
    "            else:\n",
    "                b+=1\n",
    "    return a/(a+b)"
   ]
  },
  {
   "cell_type": "code",
   "execution_count": 18,
   "metadata": {},
   "outputs": [],
   "source": [
    "def accuracy_by_label(Y_pred, Y):\n",
    "    res = []\n",
    "    for i in range(Y.shape[1]):\n",
    "        a = 0 # простые счётчики\n",
    "        b = 0\n",
    "        for j in range(Y.shape[0]):\n",
    "            if Y_pred[j][i] == Y[j][i]:\n",
    "                a+=1\n",
    "            else:\n",
    "                b+=1\n",
    "        res.append(a/(a+b))\n",
    "    return res"
   ]
  },
  {
   "cell_type": "code",
   "execution_count": 19,
   "metadata": {},
   "outputs": [],
   "source": [
    "def accuracy_by_row(Y_pred, Y):\n",
    "    res = []\n",
    "    for i in range(Y.shape[0]):\n",
    "        a = 0\n",
    "        b = 0\n",
    "        for j in range(Y.shape[1]):\n",
    "            if Y_pred[i][j] == Y[i][j]:\n",
    "                a+=1\n",
    "            else:\n",
    "                b+=1\n",
    "        res.append(a/(a+b))\n",
    "    return res"
   ]
  },
  {
   "cell_type": "markdown",
   "metadata": {},
   "source": [
    "Итак, нам нужна какая-нибудь метрика типа precision и recall, но только не для бинарной классификации, а для multioutput-multiclass классификации\n",
    "\n",
    "у нас есть confusion_matrix для мультиклассовой классификации, мы применим её для каждого label (то есть для каждой категории товара)"
   ]
  },
  {
   "cell_type": "markdown",
   "metadata": {},
   "source": [
    "micro-averaging и macro-averaging это такие алгоритмы усреднения метрик по классам.\n",
    "\n",
    " A macro-average will compute the metric independently for each class and then take the average (hence treating all classes equally), whereas a micro-average will aggregate the contributions of all classes to compute the average metric."
   ]
  },
  {
   "cell_type": "markdown",
   "metadata": {},
   "source": [
    "Class A: 1 TP and 1 FP\n",
    "Class B: 10 TP and 90 FP\n",
    "Class C: 1 TP and 1 FP\n",
    "Class D: 1 TP and 1 FP\n",
    "You can see easily that PrA=PrC=PrD=0.5, whereas PrB=0.1.\n",
    "\n",
    "A macro-average will then compute: Pr=(0.5+0.1+0.5+0.5)/4=0.4\n",
    "A micro-average will compute: Pr=(1+10+1+1)/(2+100+2+2)=0.123\n",
    "\n",
    "источник https://datascience.stackexchange.com/questions/15989/micro-average-vs-macro-average-performance-in-a-multiclass-classification-settin"
   ]
  },
  {
   "cell_type": "markdown",
   "metadata": {},
   "source": [
    "$\\text{Precision}_{~i} = \\cfrac{M_{ii}}{\\sum_j M_{ji}}$\n",
    "\n",
    "$\\text{Recall}_{~i} = \\cfrac{M_{ii}}{\\sum_j M_{ij}}$"
   ]
  },
  {
   "cell_type": "code",
   "execution_count": 20,
   "metadata": {},
   "outputs": [],
   "source": [
    "from sklearn.metrics import confusion_matrix\n",
    "\n",
    "def conf_matrices(Y_pred, Y_train):\n",
    "    conf_matrices = []\n",
    "    for i in range(Y_train.shape[1]):\n",
    "        y = Y_train[:,i]\n",
    "        y_pred = Y_pred[:,i]\n",
    "        conf_matrices.append(confusion_matrix(y_pred, y, labels = [10, 8, 6, 0]))\n",
    "    return conf_matrices"
   ]
  },
  {
   "cell_type": "code",
   "execution_count": 21,
   "metadata": {},
   "outputs": [],
   "source": [
    "def get_prec_rec_from_conf_matrix(conf_matrix):\n",
    "    precision = np.diag(conf_matrix) / np.sum(conf_matrix, axis = 1)\n",
    "    recall = np.diag(conf_matrix) / np.sum(conf_matrix, axis = 0)\n",
    "    return precision, recall"
   ]
  },
  {
   "cell_type": "code",
   "execution_count": 22,
   "metadata": {},
   "outputs": [],
   "source": [
    "#эта функция кинет ворнинг изза деления, это не важно,работает всё корректно\n",
    "def print_macro_averaged(conf_matrices, word):\n",
    "    prec = []\n",
    "    rec = []\n",
    "    for i in conf_matrices:\n",
    "        a, b = get_prec_rec_from_conf_matrix(i)\n",
    "        prec.append(np.nan_to_num(a)) # здесь будет целая куча nan изза пустых строк нулевых, оттуда ворнинг\n",
    "        rec.append(np.nan_to_num(b))\n",
    "    print(\"macro averaged precision \", word, np.mean(prec))\n",
    "    print(\"macro averaged recall \", word, np.mean(rec), '\\n')"
   ]
  },
  {
   "cell_type": "markdown",
   "metadata": {},
   "source": [
    "Я собрала все эти метрики в единый тестирующий паровозик"
   ]
  },
  {
   "cell_type": "code",
   "execution_count": 23,
   "metadata": {},
   "outputs": [],
   "source": [
    "def big_test_for_model(classifier, dfX, dfY, random_seed):\n",
    "    \n",
    "    X = np.array(dfX)\n",
    "    Y = np.array(dfY)\n",
    "    \n",
    "    X_train, X_test, Y_train, Y_test = train_test_split(X, Y, test_size=0.3, random_state = random_seed)\n",
    "    print(\"Размеры X_train, X_test, Y_train, Y_test:\", X_train.shape, X_test.shape, Y_train.shape, Y_test.shape, '\\n')\n",
    "    classifier.fit(X_train, Y_train)\n",
    "    \n",
    "    Y_train_pred = classifier.predict(X_train)\n",
    "    Y_test_pred = classifier.predict(X_test)\n",
    "    Y_pred = classifier.predict(X)\n",
    "    \n",
    "    print(\"Accuracy на обучающей выборке: \", my_accuracy(Y_train_pred, Y_train))\n",
    "    print(\"Accuracy на тестовой выборке: \", my_accuracy(Y_test_pred, Y_test), '\\n')\n",
    "    \n",
    "    print()\n",
    "    print(\"accuracy_by_row train, насколько всё хорошо у людей из обучающей выборки\")\n",
    "    accuracy_by_row_train = accuracy_by_row(classifier.predict(X_train), Y_train)\n",
    "    plt.hist(accuracy_by_row_train)\n",
    "    plt.show()\n",
    "    \n",
    "    print(\"accuracy_by_row test, у людей из тестовой\")\n",
    "    accuracy_by_row_test = accuracy_by_row(classifier.predict(X_test), Y_test)\n",
    "    plt.hist(accuracy_by_row_test)\n",
    "    plt.show()\n",
    "    \n",
    "    print(\"accuracy_by_label train, насколько всё хорошо у классов в обучающей\")\n",
    "    plt.hist(accuracy_by_label(classifier.predict(X_train), Y_train))\n",
    "    plt.show()\n",
    "    \n",
    "    print(\"accuracy_by_label test, у классов в тестовой\")\n",
    "    accuracy_by_label_test = accuracy_by_label(classifier.predict(X_test), Y_test)\n",
    "    plt.hist(accuracy_by_label_test)\n",
    "    plt.show()\n",
    "    '''\n",
    "    print(\"Посмотрим на людей с большой ошибкой\")\n",
    "    for i in range(len(accuracy_by_row_train)):\n",
    "        if accuracy_by_row_train[i] < 0.35:\n",
    "            print(\"метрика: \", accuracy_by_row_train[i])\n",
    "            print(\"данные человека: \", X_train[i])\n",
    "            print(\"дано: \", Y_train[i])\n",
    "            print(\"предсказано: \", classifier.predict(X_train)[i])\n",
    "            print()\n",
    "            \n",
    "    for i in range(len(accuracy_by_row_test)):\n",
    "        if accuracy_by_row_test[i] < 0.35:\n",
    "            print(\"метрика: \", accuracy_by_row_test[i])\n",
    "            print(\"данные человека: \", X_test[i])\n",
    "            print(\"дано: \", Y_test[i])\n",
    "            print(\"предсказано: \", classifier.predict(X_test)[i])\n",
    "    \n",
    "    print(\"Вот эти столбцы плохо предсказываются: \")\n",
    "    for i in range(len(accuracy_by_label_test)):\n",
    "        if accuracy_by_label_test[i] < 0.3:\n",
    "            print(dfY.columns[i])\n",
    "    '''\n",
    "    print(\"Получим confusion_matrix для каждого лейбла (категории товара)\")\n",
    "    conf_matrices_train = conf_matrices(Y_train_pred, Y_train)\n",
    "    conf_matrices_test = conf_matrices(Y_test_pred, Y_test)\n",
    "    conf_matrices_all = conf_matrices(Y_pred, Y)\n",
    "    print(\"Пример: \", conf_matrices_all[:3])\n",
    "    \n",
    "    print(\"Посчитаем средние точность и полноту двумя алгоритмами\")\n",
    "    \n",
    "    sum_matrices = [sum(conf_matrices_train), sum(conf_matrices_test), sum(conf_matrices_all)]\n",
    "    print('Суммарная confusion_matrix для train: ', sum_matrices[0], \"\\n для test: \", sum_matrices[1], '\\n вообще: ', sum_matrices[2])\n",
    "    \n",
    "    print(\"Micro-average: \")\n",
    "    prec, rec = get_prec_rec_from_conf_matrix(sum_matrices[0])\n",
    "    print(\"micro-averaged precision train\", np.mean(prec))\n",
    "    print(\"micro-averaged recall train\", np.mean(rec))\n",
    "    print()\n",
    "    prec, rec = get_prec_rec_from_conf_matrix(sum_matrices[1])\n",
    "    print(\"micro-averaged precision test\", np.mean(prec))\n",
    "    print(\"micro-averaged recall test\", np.mean(rec))\n",
    "    print()\n",
    "    prec, rec = get_prec_rec_from_conf_matrix(sum_matrices[2])\n",
    "    print(\"micro-averaged precision all\", np.mean(prec))\n",
    "    print(\"micro-averaged recall all\", np.mean(rec))\n",
    "    print()\n",
    "    \n",
    "    print(\"Macro-average: \")\n",
    "    #щас будут ворнинги это не важно\n",
    "    print_macro_averaged(conf_matrices_train, \"train\")\n",
    "    print_macro_averaged(conf_matrices_test, \"test\")\n",
    "    print_macro_averaged(conf_matrices_all, \"all\")\n",
    "    \n",
    "    print(\"MSE: \")\n",
    "    sum_mse = 0\n",
    "    print(\"train \", mean_squared_error(Y_train, Y_train_pred))\n",
    "    print('test ', mean_squared_error(Y_test, Y_test_pred))\n",
    "    print('all ', mean_squared_error(Y, Y_pred))\n",
    "    \n",
    "    print(\"\\nMAE: \")\n",
    "    print(\"train \", mean_absolute_error(Y_train, Y_train_pred))\n",
    "    print('test ', mean_absolute_error(Y_test, Y_test_pred))\n",
    "    print('all ', mean_absolute_error(Y, Y_pred))"
   ]
  },
  {
   "cell_type": "code",
   "execution_count": 24,
   "metadata": {},
   "outputs": [
    {
     "name": "stdout",
     "output_type": "stream",
     "text": [
      "Размеры X_train, X_test, Y_train, Y_test: (81, 17) (36, 17) (81, 47) (36, 47) \n",
      "\n",
      "Accuracy на обучающей выборке:  0.6049382716049383\n",
      "Accuracy на тестовой выборке:  0.41371158392434987 \n",
      "\n",
      "\n",
      "accuracy_by_row train, насколько всё хорошо у людей из обучающей выборки\n"
     ]
    },
    {
     "data": {
      "image/png": "[encoded data removed]",
      "text/plain": [
       "<Figure size 432x288 with 1 Axes>"
      ]
     },
     "metadata": {
      "needs_background": "light"
     },
     "output_type": "display_data"
    },
    {
     "name": "stdout",
     "output_type": "stream",
     "text": [
      "accuracy_by_row test, у людей из тестовой\n"
     ]
    },
    {
     "data": {
      "image/png": "[encoded data removed]",
      "text/plain": [
       "<Figure size 432x288 with 1 Axes>"
      ]
     },
     "metadata": {
      "needs_background": "light"
     },
     "output_type": "display_data"
    },
    {
     "name": "stdout",
     "output_type": "stream",
     "text": [
      "accuracy_by_label train, насколько всё хорошо у классов в обучающей\n"
     ]
    },
    {
     "data": {
      "image/png": "[encoded data removed]",
      "text/plain": [
       "<Figure size 432x288 with 1 Axes>"
      ]
     },
     "metadata": {
      "needs_background": "light"
     },
     "output_type": "display_data"
    },
    {
     "name": "stdout",
     "output_type": "stream",
     "text": [
      "accuracy_by_label test, у классов в тестовой\n"
     ]
    },
    {
     "data": {
      "image/png": "[encoded data removed]",
      "text/plain": [
       "<Figure size 432x288 with 1 Axes>"
      ]
     },
     "metadata": {
      "needs_background": "light"
     },
     "output_type": "display_data"
    },
    {
     "name": "stdout",
     "output_type": "stream",
     "text": [
      "Получим confusion_matrix для каждого лейбла (категории товара)\n",
      "Пример:  [array([[59, 20,  5,  3],\n",
      "       [ 9, 14,  4,  2],\n",
      "       [ 0,  0,  0,  0],\n",
      "       [ 0,  0,  0,  1]], dtype=int64), array([[40, 31, 18,  6],\n",
      "       [ 2, 16,  1,  0],\n",
      "       [ 0,  1,  2,  0],\n",
      "       [ 0,  0,  0,  0]], dtype=int64), array([[33, 15,  4,  3],\n",
      "       [12, 35,  8,  5],\n",
      "       [ 0,  0,  2,  0],\n",
      "       [ 0,  0,  0,  0]], dtype=int64)]\n",
      "Посчитаем средние точность и полноту двумя алгоритмами\n",
      "Суммарная confusion_matrix для train:  [[586 175 103  80]\n",
      " [120 375  98  74]\n",
      " [136 136 433 140]\n",
      " [ 90 119 233 909]] \n",
      " для test:  [[157 126  84  48]\n",
      " [ 83  93  90  58]\n",
      " [ 43  82 104 135]\n",
      " [ 35  74 134 346]] \n",
      " вообще:  [[ 743  301  187  128]\n",
      " [ 203  468  188  132]\n",
      " [ 179  218  537  275]\n",
      " [ 125  193  367 1255]]\n",
      "Micro-average: \n",
      "micro-averaged precision train 0.5920606437514324\n",
      "micro-averaged recall train 0.5874070363558682\n",
      "\n",
      "micro-averaged precision test 0.3846252271326933\n",
      "micro-averaged recall test 0.39589392392767564\n",
      "\n",
      "micro-averaged precision all 0.5275129341842737\n",
      "micro-averaged recall all 0.5279966882445252\n",
      "\n",
      "Macro-average: \n",
      "macro averaged precision  train 0.5704497248885596\n",
      "macro averaged recall  train 0.46466661113273006 \n",
      "\n",
      "macro averaged precision  test 0.2826547273002708\n",
      "macro averaged recall  test 0.28278305146074784 \n",
      "\n",
      "macro averaged precision  all 0.478950922432852\n",
      "macro averaged recall  all 0.4143212398866984 \n",
      "\n",
      "MSE: \n",
      "train  12.797478329393222\n",
      "test  17.723404255319146\n",
      "all  14.313147845062739\n",
      "\n",
      "MAE: \n",
      "train  1.9690044654583656\n",
      "test  2.8191489361702127\n",
      "all  2.2305873795235502\n"
     ]
    },
    {
     "name": "stderr",
     "output_type": "stream",
     "text": [
      "C:\\Users\\lkuro\\Miniconda3\\lib\\site-packages\\ipykernel_launcher.py:2: RuntimeWarning: invalid value encountered in true_divide\n",
      "  \n",
      "C:\\Users\\lkuro\\Miniconda3\\lib\\site-packages\\ipykernel_launcher.py:3: RuntimeWarning: invalid value encountered in true_divide\n",
      "  This is separate from the ipykernel package so we can avoid doing imports until\n"
     ]
    }
   ],
   "source": [
    "big_test_for_model(classifier, X, Y, 21)"
   ]
  },
  {
   "cell_type": "markdown",
   "metadata": {},
   "source": [
    "(не обращаем внимания на ворнинг, всё работает корректно)\n",
    "как я и говорила в отчёте, видно, что на мерках классификации модель показывает себя весьма и весьма посредственно, но по MAE и MSE видно что работает она на самом деле нормально, попадает в соседнюю от верной категорию, что в нашем случае, когда категории имеют вид \"круто\" \"хорошо\" \"нормально\" \"нет\" не так уж плохо"
   ]
  },
  {
   "cell_type": "code",
   "execution_count": 25,
   "metadata": {},
   "outputs": [
    {
     "data": {
      "text/plain": [
       "MultiOutputRegressor(estimator=DecisionTreeRegressor(ccp_alpha=0.0,\n",
       "                                                     criterion='mse',\n",
       "                                                     max_depth=3,\n",
       "                                                     max_features=None,\n",
       "                                                     max_leaf_nodes=None,\n",
       "                                                     min_impurity_decrease=0.0,\n",
       "                                                     min_impurity_split=None,\n",
       "                                                     min_samples_leaf=1,\n",
       "                                                     min_samples_split=2,\n",
       "                                                     min_weight_fraction_leaf=0.0,\n",
       "                                                     presort='deprecated',\n",
       "                                                     random_state=None,\n",
       "                                                     splitter='best'),\n",
       "                     n_jobs=None)"
      ]
     },
     "execution_count": 25,
     "metadata": {},
     "output_type": "execute_result"
    }
   ],
   "source": [
    "#теперь быстренько регрессия\n",
    "regr = MultiOutputRegressor(DecisionTreeRegressor(max_depth=3))\n",
    "regr"
   ]
  },
  {
   "cell_type": "code",
   "execution_count": 26,
   "metadata": {},
   "outputs": [
    {
     "name": "stdout",
     "output_type": "stream",
     "text": [
      "Размеры X_train, X_test, Y_train, Y_test: (81, 17) (36, 17) (81, 47) (36, 47) \n",
      "\n",
      "MSE: \n",
      "train  7.412184609683148\n",
      "test  13.377735434105688\n",
      "all  9.247738709505466\n",
      "\n",
      "MAE: \n",
      "train  2.056881886131577\n",
      "test  2.8330221626391197\n",
      "all  2.2956942789031287\n"
     ]
    }
   ],
   "source": [
    "#print(\"MAE: \")\n",
    "X = np.array(X)\n",
    "Y = np.array(Y)\n",
    "\n",
    "X_train, X_test, Y_train, Y_test = train_test_split(X, Y, test_size=0.3, random_state = 122)\n",
    "print(\"Размеры X_train, X_test, Y_train, Y_test:\", X_train.shape, X_test.shape, Y_train.shape, Y_test.shape, '\\n')\n",
    "regr.fit(X_train, Y_train)\n",
    "\n",
    "Y_train_pred = regr.predict(X_train)\n",
    "Y_test_pred = regr.predict(X_test)\n",
    "Y_pred = regr.predict(X)\n",
    "print(\"MSE: \")\n",
    "print(\"train \", mean_squared_error(Y_train, Y_train_pred))\n",
    "print('test ', mean_squared_error(Y_test, Y_test_pred))\n",
    "print('all ', mean_squared_error(Y, Y_pred))\n",
    "print(\"\\nMAE: \")\n",
    "print(\"train \", mean_absolute_error(Y_train, Y_train_pred))\n",
    "print('test ', mean_absolute_error(Y_test, Y_test_pred))\n",
    "print('all ', mean_absolute_error(Y, Y_pred))"
   ]
  },
  {
   "cell_type": "code",
   "execution_count": 27,
   "metadata": {},
   "outputs": [
    {
     "name": "stdout",
     "output_type": "stream",
     "text": [
      "значения МАЕ для людей из обучающей выборки\n"
     ]
    },
    {
     "data": {
      "image/png": "[encoded data removed]",
      "text/plain": [
       "<Figure size 432x288 with 1 Axes>"
      ]
     },
     "metadata": {
      "needs_background": "light"
     },
     "output_type": "display_data"
    },
    {
     "name": "stdout",
     "output_type": "stream",
     "text": [
      "для людей из тестовой выборки\n"
     ]
    },
    {
     "data": {
      "image/png": "[encoded data removed]",
      "text/plain": [
       "<Figure size 432x288 with 1 Axes>"
      ]
     },
     "metadata": {
      "needs_background": "light"
     },
     "output_type": "display_data"
    },
    {
     "name": "stdout",
     "output_type": "stream",
     "text": [
      "значения МАЕ для классов из обучающей выборки\n"
     ]
    },
    {
     "data": {
      "image/png": "[encoded data removed]",
      "text/plain": [
       "<Figure size 432x288 with 1 Axes>"
      ]
     },
     "metadata": {
      "needs_background": "light"
     },
     "output_type": "display_data"
    },
    {
     "name": "stdout",
     "output_type": "stream",
     "text": [
      "классов из тестовой выборки\n"
     ]
    },
    {
     "data": {
      "image/png": "[encoded data removed]",
      "text/plain": [
       "<Figure size 432x288 with 1 Axes>"
      ]
     },
     "metadata": {
      "needs_background": "light"
     },
     "output_type": "display_data"
    }
   ],
   "source": [
    "#посмотрим MAE по классам\n",
    "print(\"значения МАЕ для людей из обучающей выборки\")\n",
    "mae_by_row_train = []\n",
    "\n",
    "for i in range(Y_train.shape[0]):\n",
    "    mae_by_row_train.append(mean_absolute_error(Y_train[i], Y_train_pred[i]))\n",
    "\n",
    "plt.hist(mae_by_row_train, range = [0, 10])\n",
    "plt.show()\n",
    "\n",
    "print(\"для людей из тестовой выборки\")\n",
    "mae_by_row_test = []\n",
    "\n",
    "for i in range(Y_test.shape[0]):\n",
    "    mae_by_row_test.append(mean_absolute_error(Y_test[i], Y_test_pred[i]))\n",
    "\n",
    "plt.hist(mae_by_row_test, range = [0, 10])\n",
    "plt.show()\n",
    "\n",
    "print(\"значения МАЕ для классов из обучающей выборки\")\n",
    "mae_by_column_train = []\n",
    "\n",
    "for i in range(Y_train.shape[1]):\n",
    "    mae_by_column_train.append(mean_absolute_error(Y_train[:,i], Y_train_pred[:, i]))\n",
    "\n",
    "plt.hist(mae_by_column_train, range = [0, 10])\n",
    "plt.show()\n",
    "\n",
    "print(\"классов из тестовой выборки\")\n",
    "mae_by_column_test = []\n",
    "\n",
    "for i in range(Y_test.shape[1]):\n",
    "    mae_by_column_test.append(mean_absolute_error(Y_test[:,i], Y_test_pred[:, i]))\n",
    "\n",
    "plt.hist(mae_by_column_test, range = [0, 10])\n",
    "plt.show()\n",
    "\n"
   ]
  },
  {
   "cell_type": "markdown",
   "metadata": {},
   "source": [
    "вывод - модель работает прямо таки удивительно хорошо, всё время попадает примерно куда надо (как и должны деревья, они ведь с низким смещением), не переобучена"
   ]
  },
  {
   "cell_type": "code",
   "execution_count": 28,
   "metadata": {},
   "outputs": [
    {
     "data": {
      "text/plain": [
       "{'estimator__ccp_alpha': 0.0,\n",
       " 'estimator__criterion': 'mse',\n",
       " 'estimator__max_depth': 3,\n",
       " 'estimator__max_features': None,\n",
       " 'estimator__max_leaf_nodes': None,\n",
       " 'estimator__min_impurity_decrease': 0.0,\n",
       " 'estimator__min_impurity_split': None,\n",
       " 'estimator__min_samples_leaf': 1,\n",
       " 'estimator__min_samples_split': 2,\n",
       " 'estimator__min_weight_fraction_leaf': 0.0,\n",
       " 'estimator__presort': 'deprecated',\n",
       " 'estimator__random_state': None,\n",
       " 'estimator__splitter': 'best',\n",
       " 'estimator': DecisionTreeRegressor(ccp_alpha=0.0, criterion='mse', max_depth=3,\n",
       "                       max_features=None, max_leaf_nodes=None,\n",
       "                       min_impurity_decrease=0.0, min_impurity_split=None,\n",
       "                       min_samples_leaf=1, min_samples_split=2,\n",
       "                       min_weight_fraction_leaf=0.0, presort='deprecated',\n",
       "                       random_state=None, splitter='best'),\n",
       " 'n_jobs': None}"
      ]
     },
     "execution_count": 28,
     "metadata": {},
     "output_type": "execute_result"
    }
   ],
   "source": [
    "regr.get_params()"
   ]
  },
  {
   "cell_type": "code",
   "execution_count": null,
   "metadata": {},
   "outputs": [],
   "source": []
  }
 ],
 "metadata": {
  "kernelspec": {
   "display_name": "Python 3",
   "language": "python",
   "name": "python3"
  },
  "language_info": {
   "codemirror_mode": {
    "name": "ipython",
    "version": 3
   },
   "file_extension": ".py",
   "mimetype": "text/x-python",
   "name": "python",
   "nbconvert_exporter": "python",
   "pygments_lexer": "ipython3",
   "version": "3.7.4"
  }
 },
 "nbformat": 4,
 "nbformat_minor": 4
}
